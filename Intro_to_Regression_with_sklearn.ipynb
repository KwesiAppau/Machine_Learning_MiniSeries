{
 "cells": [
  {
   "cell_type": "markdown",
   "id": "a1e5681f",
   "metadata": {
    "id": "a1e5681f"
   },
   "source": [
    "# 🧮 Inroduction to Linear Regression with sklearn"
   ]
  },
  {
   "cell_type": "markdown",
   "id": "4e6decff-40ec-4688-917e-07e50fb34eb8",
   "metadata": {},
   "source": [
    "In this example, we're demonstrating manual linear regression using just two data points. This helps build an intuition for how linear regression works behind the scenes.\n",
    "\n",
    "In this exercise, I used scikit-learn’s LinearRegression model to fit a simple linear regression between BMI (as the predictor variable) and disease progression scores (as the response). I trained the model on a small dataset, extracted the slope (coefficient) and intercept, and then used the model to make predictions for new BMI values (0.62 and 0.68). I further tested the model on a separate set of BMI values, compared the predicted scores to the actual disease progression values, and visualized the fit with a scatterplot of the test data and the regression line. Finally, I evaluated model performance using Mean Absolute Error (MAE) and Mean Squared Error (MSE), which quantified the differences between actual and predicted values, helping to assess the accuracy of the regression model."
   ]
  },
  {
   "cell_type": "markdown",
   "id": "e5352131",
   "metadata": {
    "id": "e5352131"
   },
   "source": [
    "\n",
    "Now we'll use scikit-learn's `LinearRegression` model to fit and predict disease progression\n",
    "based on a simplified BMI dataset.\n"
   ]
  },
  {
   "cell_type": "code",
   "execution_count": 6,
   "id": "997d6bec",
   "metadata": {
    "id": "997d6bec"
   },
   "outputs": [],
   "source": [
    "\n",
    "#import the Linear Regression model from sklearn\n",
    "import matplotlib.pyplot as plt\n",
    "import numpy as np\n",
    "from sklearn import datasets\n",
    "from sklearn.linear_model import LinearRegression\n",
    "#Update Code Here\n"
   ]
  },
  {
   "cell_type": "markdown",
   "id": "3edfef5c",
   "metadata": {
    "id": "3edfef5c"
   },
   "source": [
    "## 📊 Data"
   ]
  },
  {
   "cell_type": "code",
   "execution_count": 9,
   "id": "8ef6ff8a",
   "metadata": {
    "id": "8ef6ff8a"
   },
   "outputs": [],
   "source": [
    "\n",
    "# Example data: simplified %BMI - no need to update code below, use data as is.\n",
    "data_x = np.array([[.50], [.55], [.60], [.65], [.70]])  # %BMI * 100\n",
    "data_y = np.array([[60], [65], [68], [70], [74]])  # Disease progression scores\n",
    "\n"
   ]
  },
  {
   "cell_type": "code",
   "execution_count": 11,
   "id": "048b161d-5c94-4b84-a63f-7bc4f68294d4",
   "metadata": {},
   "outputs": [
    {
     "data": {
      "text/plain": [
       "array([[0.5 ],\n",
       "       [0.55],\n",
       "       [0.6 ],\n",
       "       [0.65],\n",
       "       [0.7 ]])"
      ]
     },
     "execution_count": 11,
     "metadata": {},
     "output_type": "execute_result"
    }
   ],
   "source": [
    "data_x"
   ]
  },
  {
   "cell_type": "markdown",
   "id": "f09101f6",
   "metadata": {
    "id": "f09101f6"
   },
   "source": [
    "## ⚙️ Fit the Linear Regression model"
   ]
  },
  {
   "cell_type": "code",
   "execution_count": 14,
   "id": "9c916833",
   "metadata": {
    "colab": {
     "base_uri": "https://localhost:8080/"
    },
    "id": "9c916833",
    "outputId": "070eacbf-18b1-43d3-c48f-64bf3f4851e1"
   },
   "outputs": [
    {
     "name": "stdout",
     "output_type": "stream",
     "text": [
      "Model Coefficient (slope): 66.00\n",
      "Model Intercept: 27.80\n"
     ]
    }
   ],
   "source": [
    "#Let's create a new model and train it\n",
    "#create a variable called lr to initialize a new Linear Regression model using built-in sklearn function\n",
    "lr = LinearRegression()\n",
    "#call the built-in sklearn fit function with the data\n",
    "lr.fit(data_x, data_y)\n",
    "#Print Slope and Intercept - no need to update code below\n",
    "print(f\"Model Coefficient (slope): {lr.coef_[0][0]:.2f}\")\n",
    "print(f\"Model Intercept: {lr.intercept_[0]:.2f}\")\n"
   ]
  },
  {
   "cell_type": "markdown",
   "id": "b7e7d4e5",
   "metadata": {
    "id": "b7e7d4e5"
   },
   "source": [
    "## 🔍 Make individual predictions"
   ]
  },
  {
   "cell_type": "code",
   "execution_count": 17,
   "id": "31861cd1",
   "metadata": {
    "colab": {
     "base_uri": "https://localhost:8080/"
    },
    "id": "31861cd1",
    "outputId": "8b372adc-80b6-4dd8-bc13-ff987e0485ed"
   },
   "outputs": [
    {
     "name": "stdout",
     "output_type": "stream",
     "text": [
      "Prediction for %BMI = 62: [[68.72]]\n",
      "Prediction for %BMI = 68: [[72.68]]\n"
     ]
    }
   ],
   "source": [
    "#Let's make some predictions\n",
    "#create a new variable called prediction1 using built-in sklearn function that calculates the prediction of a bmi value of .62\n",
    "prediction1 = lr.predict([[0.62]])\n",
    "# create a new variable called prediction2 using built-in sklearn function that calculates the prediction of a bmi value of .68\n",
    "prediction2 = lr.predict([[0.68]])\n",
    "\n",
    "#Print Predictions: No need to update the code below\n",
    "print(\"Prediction for %BMI = 62:\", prediction1)\n",
    "print(\"Prediction for %BMI = 68:\", prediction2)\n",
    "\n",
    "\n"
   ]
  },
  {
   "cell_type": "markdown",
   "id": "9d5d087c",
   "metadata": {
    "id": "9d5d087c"
   },
   "source": [
    "## 📈 Predict on test data and plot"
   ]
  },
  {
   "cell_type": "code",
   "execution_count": 20,
   "id": "a1c66117",
   "metadata": {
    "colab": {
     "base_uri": "https://localhost:8080/"
    },
    "id": "a1c66117",
    "outputId": "cd4dfd4a-38ac-4401-cd84-ae05b49e781a"
   },
   "outputs": [
    {
     "name": "stdout",
     "output_type": "stream",
     "text": [
      "Predicted values shape: (5, 1)\n"
     ]
    }
   ],
   "source": [
    "#Let's make some predictions\n",
    "test_data_x = np.array([[.52], [.54], [.56], [.58], [.68]])  #Test BMI Data, no need to update\n",
    "test_data_y = np.array([[61.5], [63], [64.5], [66], [72.5]]) #Test Disease Progression Data, no need to update\n",
    "\n",
    "#create a new variable called test_predict using built-in sklearn function that calculates the prediction for test_data_x\n",
    "test_predict = lr.predict(test_data_x)\n",
    "#Print shape of results, we should have 5 different predictions\n",
    "print(\"Predicted values shape:\", test_predict.shape) #no need to update\n"
   ]
  },
  {
   "cell_type": "code",
   "execution_count": 22,
   "id": "a80deb4b",
   "metadata": {
    "colab": {
     "base_uri": "https://localhost:8080/",
     "height": 472
    },
    "id": "a80deb4b",
    "outputId": "c36a094e-e1cb-4952-a09d-77bf0b0b3467"
   },
   "outputs": [
    {
     "data": {
      "image/png": "[encoded data removed]",
      "text/plain": [
       "<Figure size 640x480 with 1 Axes>"
      ]
     },
     "metadata": {},
     "output_type": "display_data"
    }
   ],
   "source": [
    "#Plot\n",
    "plt.scatter(test_data_x, test_data_y, color=\"black\", label=\"Actual Data\")\n",
    "plt.plot(test_data_x, test_predict, color=\"blue\", linewidth=3, label=\"Predicted Linear Model\")\n",
    "plt.xlabel(\"%BMI\")\n",
    "plt.ylabel(\"Disease Progression\")\n",
    "plt.title(\"Linear Regression Fit vs Actual Data\")\n",
    "plt.legend()\n",
    "plt.grid(True)\n",
    "plt.show()\n"
   ]
  },
  {
   "cell_type": "markdown",
   "id": "75b9a956",
   "metadata": {
    "id": "75b9a956"
   },
   "source": [
    "### 🧪 Try It: Compute the Loss\n",
    "Using built-in sklearn loss functions"
   ]
  },
  {
   "cell_type": "code",
   "execution_count": 25,
   "id": "1b67766b",
   "metadata": {
    "colab": {
     "base_uri": "https://localhost:8080/"
    },
    "id": "1b67766b",
    "outputId": "be4ca685-7c19-4d05-9038-b4652dea6c1d"
   },
   "outputs": [
    {
     "name": "stdout",
     "output_type": "stream",
     "text": [
      "L1 Loss (MAE) via sklearn: 0.32\n",
      "L2 Loss (MSE) via sklearn: 0.14\n",
      "\n",
      "Why is L2 smaller?\n",
      "MSE (L2) squares errors, so it tends to penalize larger errors more heavily but also compresses smaller errors because when errors < 1, squaring makes them smaller (e.g., 0.3² = 0.09).\n",
      "MAE (L1) is on the scale of raw errors (absolute values).\n"
     ]
    }
   ],
   "source": [
    "#import the MAE and MSE from sklearn\n",
    "#Import MAE and MSE from sklearn\n",
    "from sklearn.metrics import mean_absolute_error, mean_squared_error\n",
    "#Update Code Here: Create variable called l1_loss_sklearn that calls the MAE function from sklearn on our test and predict data.\n",
    "l1_loss_sklearn = mean_absolute_error(test_data_y, test_predict)\n",
    "#Update Code Here: Create variable called l2_loss_sklearn that calls the MSE function from sklearn on our test and predict data.\n",
    "l2_loss_sklearn = mean_squared_error(test_data_y, test_predict)\n",
    "\n",
    "#Print Losses: No need to update code below.\n",
    "print(f\"L1 Loss (MAE) via sklearn: {l1_loss_sklearn:.2f}\")\n",
    "print(f\"L2 Loss (MSE) via sklearn: {l2_loss_sklearn:.2f}\")\n",
    "print()\n",
    "print(\"Why is L2 smaller?\")\n",
    "print(\"MSE (L2) squares errors, so it tends to penalize larger errors more heavily but also compresses smaller errors because when errors < 1, squaring makes them smaller (e.g., 0.3² = 0.09).\")\n",
    "print(\"MAE (L1) is on the scale of raw errors (absolute values).\")"
   ]
  },
  {
   "cell_type": "code",
   "execution_count": null,
   "id": "f20ab88c-9dc0-4b6a-989c-c9702113665e",
   "metadata": {},
   "outputs": [],
   "source": []
  }
 ],
 "metadata": {
  "colab": {
   "provenance": []
  },
  "kernelspec": {
   "display_name": "Python [conda env:base] *",
   "language": "python",
   "name": "conda-base-py"
  },
  "language_info": {
   "codemirror_mode": {
    "name": "ipython",
    "version": 3
   },
   "file_extension": ".py",
   "mimetype": "text/x-python",
   "name": "python",
   "nbconvert_exporter": "python",
   "pygments_lexer": "ipython3",
   "version": "3.12.7"
  }
 },
 "nbformat": 4,
 "nbformat_minor": 5
}
